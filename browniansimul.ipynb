{
 "cells": [
  {
   "cell_type": "code",
   "execution_count": null,
   "id": "cathedral-trail",
   "metadata": {},
   "outputs": [],
   "source": [
    "%matplotlib inline\n",
    "import matplotlib.pyplot as plt\n",
    "import numpy as np"
   ]
  },
  {
   "cell_type": "code",
   "execution_count": null,
   "id": "promotional-workshop",
   "metadata": {},
   "outputs": [],
   "source": [
    "class Brownian():\n",
    "    \"\"\"\n",
    "    A Brownian motion class constructor\n",
    "    \"\"\"\n",
    "    def __init__(self,x0=0):\n",
    "        \"\"\"\n",
    "        Init class\n",
    "        \"\"\"\n",
    "        assert (type(x0)==float or type(x0)==int or x0 is None), \"Expect a float or None for the initial value\"\n",
    "        \n",
    "        self.x0 = float(x0)\n",
    "    \n",
    "    def gen_random_walk(self,n_step=100):\n",
    "        \"\"\"\n",
    "        Generate motion by random walk\n",
    "        \n",
    "        Arguments:\n",
    "            n_step: Number of steps\n",
    "            \n",
    "        Returns:\n",
    "            A NumPy array with `n_steps` points\n",
    "        \"\"\"\n",
    "        # Warning about the small number of steps\n",
    "        if n_step < 30:\n",
    "            print(\"WARNING! The number of steps is small. It may not generate a good stochastic process sequence!\")\n",
    "        \n",
    "        w = np.ones(n_step)*self.x0\n",
    "        \n",
    "        for i in range(1,n_step):\n",
    "            # Sampling from the Normal distribution with probability 1/2\n",
    "            yi = np.random.choice([1,-1])\n",
    "            # Weiner process\n",
    "            w[i] = w[i-1]+(yi/np.sqrt(n_step))\n",
    "        \n",
    "        return w\n",
    "    \n",
    "    def gen_normal(self,n_step=100):\n",
    "        \"\"\"\n",
    "        Generate motion by drawing from the Normal distribution\n",
    "        \n",
    "        Arguments:\n",
    "            n_step: Number of steps\n",
    "            \n",
    "        Returns:\n",
    "            A NumPy array with `n_steps` points\n",
    "        \"\"\"\n",
    "        if n_step < 30:\n",
    "            print(\"WARNING! The number of steps is small. It may not generate a good stochastic process sequence!\")\n",
    "        \n",
    "        w = np.ones(n_step)*self.x0\n",
    "        \n",
    "        for i in range(1,n_step):\n",
    "            # Sampling from the Normal distribution\n",
    "            yi = np.random.normal()\n",
    "            # Weiner process\n",
    "            w[i] = w[i-1]+(yi/np.sqrt(n_step))\n",
    "        \n",
    "        return w\n",
    "    \n",
    "    def stock_price(\n",
    "                    self,\n",
    "                    s0=100,\n",
    "                    mu=0.2,\n",
    "                    sigma=0.68,\n",
    "                    deltaT=52,\n",
    "                    dt=0.1\n",
    "                    ):\n",
    "        \"\"\"\n",
    "        Models a stock price S(t) using the Weiner process W(t) as\n",
    "        `S(t) = S(0).exp{(mu-(sigma^2/2).t)+sigma.W(t)}`\n",
    "        \n",
    "        Arguments:\n",
    "            s0: Iniital stock price, default 100\n",
    "            mu: 'Drift' of the stock (upwards or downwards), default 1\n",
    "            sigma: 'Volatility' of the stock, default 1\n",
    "            deltaT: The time period for which the future prices are computed, default 52 (as in 52 weeks)\n",
    "            dt (optional): The granularity of the time-period, default 0.1\n",
    "        \n",
    "        Returns:\n",
    "            s: A NumPy array with the simulated stock prices over the time-period deltaT\n",
    "        \"\"\"\n",
    "        n_step = int(deltaT/dt)\n",
    "        time_vector = np.linspace(0,deltaT,num=n_step)\n",
    "        # Stock variation\n",
    "        stock_var = (mu-(sigma**2/2))*time_vector\n",
    "        # Forcefully set the initial value to zero for the stock price simulation\n",
    "        self.x0=0\n",
    "        # Weiner process (calls the `gen_normal` method)\n",
    "        weiner_process = sigma*self.gen_normal(n_step)\n",
    "        # Add two time series, take exponent, and multiply by the initial stock price\n",
    "        s = s0*(np.exp(stock_var+weiner_process))\n",
    "        \n",
    "        return s"
   ]
  },
  {
   "cell_type": "code",
   "execution_count": null,
   "id": "about-recruitment",
   "metadata": {},
   "outputs": [],
   "source": [
    "b = Brownian()"
   ]
  },
  {
   "cell_type": "code",
   "execution_count": null,
   "id": "temporal-group",
   "metadata": {},
   "outputs": [],
   "source": [
    "for i in range(4):\n",
    "    plt.plot(b.gen_normal(n_step=10000))\n",
    "plt.show()"
   ]
  },
  {
   "cell_type": "code",
   "execution_count": null,
   "id": "cooperative-nevada",
   "metadata": {},
   "outputs": [],
   "source": [
    "for i in range(4):\n",
    "    plt.plot(b.gen_random_walk(n_step=10000))\n",
    "plt.show()"
   ]
  },
  {
   "cell_type": "code",
   "execution_count": null,
   "id": "superior-overall",
   "metadata": {},
   "outputs": [],
   "source": [
    "for i in range(4):\n",
    "    plt.plot(b.stock_price(dt=0.0001, sigma=0.9))\n",
    "plt.show()"
   ]
  }
 ],
 "metadata": {
  "kernelspec": {
   "display_name": "Python 3",
   "language": "python",
   "name": "python3"
  },
  "language_info": {
   "codemirror_mode": {
    "name": "ipython",
    "version": 3
   },
   "file_extension": ".py",
   "mimetype": "text/x-python",
   "name": "python",
   "nbconvert_exporter": "python",
   "pygments_lexer": "ipython3",
   "version": "3.7.9"
  }
 },
 "nbformat": 4,
 "nbformat_minor": 5
}
